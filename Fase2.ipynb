{
 "cells": [
  {
   "cell_type": "code",
   "execution_count": null,
   "metadata": {},
   "outputs": [],
   "source": [
    "import pandas as pd\n",
    "import seaborn as sns\n",
    "import matplotlib.pyplot as plt\n",
    "import numpy as np"
   ]
  },
  {
   "cell_type": "markdown",
   "metadata": {},
   "source": [
    "Dados Usados:"
   ]
  },
  {
   "cell_type": "markdown",
   "metadata": {},
   "source": [
    "Importando os datasets separados"
   ]
  },
  {
   "cell_type": "code",
   "execution_count": null,
   "metadata": {},
   "outputs": [],
   "source": [
    "agents_vct2021 = pd.read_csv('datasets-criados/agents_pick_vct2021.csv')\n",
    "agents_vct2022 = pd.read_csv('datasets-criados/agents_pick_vct2022.csv')\n",
    "agents_vct2023 = pd.read_csv('datasets-criados/agents_pick_vct2023.csv')\n",
    "\n",
    "maps_2021 = pd.read_csv('datasets-criados/maps_vct2021.csv')\n",
    "maps_2022 = pd.read_csv('datasets-criados/maps_vct2022.csv')\n",
    "maps_2023 = pd.read_csv('datasets-criados/maps_vct2023.csv')\n"
   ]
  },
  {
   "cell_type": "markdown",
   "metadata": {},
   "source": [
    "Pré Processamento dos dados"
   ]
  },
  {
   "cell_type": "markdown",
   "metadata": {},
   "source": [
    "Limpeza de dados"
   ]
  },
  {
   "cell_type": "code",
   "execution_count": null,
   "metadata": {},
   "outputs": [],
   "source": [
    "agents_vct = pd.concat([agents_vct2021, agents_vct2022, agents_vct2023], axis=0)\n",
    "agents_vct.rename(columns={'Pick Rate': 'Pick Rate (%)'}, inplace = True)\n",
    "\n",
    "maps_vct = pd.concat([maps_2021,maps_2022,maps_2023], axis= 0)\n",
    "\n",
    "#maps_vct = maps_vct.groupby(maps_vct.columns).agg({'Attacker Side Win Percentage': 'mean', 'Defender Side Win Percentage': 'mean'}).reset_index()\n",
    "\n"
   ]
  },
  {
   "cell_type": "markdown",
   "metadata": {},
   "source": [
    "Dataset após a Limpeza"
   ]
  },
  {
   "cell_type": "code",
   "execution_count": null,
   "metadata": {},
   "outputs": [],
   "source": [
    "display(maps_vct)"
   ]
  },
  {
   "cell_type": "markdown",
   "metadata": {},
   "source": [
    "<h4>Quais agentes estão sendo escolhidos com mais frequência ao longo do tempo?</h4>"
   ]
  },
  {
   "cell_type": "code",
   "execution_count": null,
   "metadata": {},
   "outputs": [],
   "source": [
    "#Plotando o gráfico de colunas\n",
    "plt.figure(figsize=(12, 9))\n",
    "sns.boxplot(x='Agent', y='Pick Rate (%)', data=agents_vct, order=agents_vct.sort_values('Pick Rate (%)', ascending=False)['Agent'])\n",
    "plt.xticks(rotation=90)\n",
    "plt.show()\n"
   ]
  },
  {
   "cell_type": "code",
   "execution_count": null,
   "metadata": {},
   "outputs": [],
   "source": [
    "agents_vct.describe()"
   ]
  },
  {
   "cell_type": "code",
   "execution_count": null,
   "metadata": {},
   "outputs": [],
   "source": [
    "\n",
    "def mostraGrafico(maps_vct):\n",
    "\n",
    "    bar_width = 0.35\n",
    "\n",
    "\n",
    "    bar_positions = np.arange(len(maps_vct))\n",
    "\n",
    "\n",
    "    fig, ax = plt.subplots()\n",
    "\n",
    "\n",
    "    ax.barh(bar_positions - bar_width/2, maps_vct['Attacker Side Win Percentage'], bar_width, label='Ataque', color='blue')\n",
    "\n",
    "\n",
    "    ax.barh(bar_positions + bar_width/2, maps_vct['Defender Side Win Percentage'], bar_width, label='Defesa', color='orange')\n",
    "\n",
    "    \n",
    "    ax.set_yticks(bar_positions)\n",
    "    ax.set_yticklabels(maps_vct['Map'])\n",
    "    ax.set_xlabel('Porcentagem de Vitória')\n",
    "    ax.set_title('Porcentagem de Vitória por Mapa e Lado')\n",
    "    ax.legend()\n",
    "\n",
    "    plt.show()"
   ]
  },
  {
   "cell_type": "code",
   "execution_count": null,
   "metadata": {},
   "outputs": [],
   "source": [
    "mostraGrafico(maps_vct)\n",
    "#Grafico de 2023\n"
   ]
  },
  {
   "cell_type": "code",
   "execution_count": null,
   "metadata": {},
   "outputs": [],
   "source": [
    "mostraGrafico(maps_2021)\n",
    "#Grafico de 2021"
   ]
  },
  {
   "cell_type": "code",
   "execution_count": null,
   "metadata": {},
   "outputs": [],
   "source": [
    "mostraGrafico(maps_2022)\n",
    "#Grafico de 2022"
   ]
  },
  {
   "cell_type": "code",
   "execution_count": null,
   "metadata": {},
   "outputs": [],
   "source": [
    "mostraGrafico(maps_2023)\n",
    "#Grafico de 2023"
   ]
  }
 ],
 "metadata": {
  "kernelspec": {
   "display_name": "Python 3",
   "language": "python",
   "name": "python3"
  },
  "language_info": {
   "codemirror_mode": {
    "name": "ipython",
    "version": 3
   },
   "file_extension": ".py",
   "mimetype": "text/x-python",
   "name": "python",
   "nbconvert_exporter": "python",
   "pygments_lexer": "ipython3",
   "version": "3.12.2"
  }
 },
 "nbformat": 4,
 "nbformat_minor": 2
}
